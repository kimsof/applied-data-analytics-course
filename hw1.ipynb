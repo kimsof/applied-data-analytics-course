{
 "cells": [
  {
   "cell_type": "markdown",
   "id": "5d9eb179",
   "metadata": {},
   "source": [
    "# Используемый датасет - attacks.csv. В нем собрана информация о нападениях акул на людей. "
   ]
  },
  {
   "cell_type": "code",
   "execution_count": 201,
   "id": "efb3c563",
   "metadata": {
    "scrolled": false
   },
   "outputs": [],
   "source": [
    "import pandas as pd\n",
    "df = pd.read_csv('attacks.csv')"
   ]
  },
  {
   "cell_type": "markdown",
   "id": "f326d30b",
   "metadata": {},
   "source": [
    "# Основная информация о датасете"
   ]
  },
  {
   "cell_type": "code",
   "execution_count": 202,
   "id": "782155ab",
   "metadata": {},
   "outputs": [
    {
     "name": "stdout",
     "output_type": "stream",
     "text": [
      "количество столбцов: 25723\n",
      "-------------------------------------\n",
      "названия столбцов:\n",
      "Case Number\n",
      "Date\n",
      "Year\n",
      "Type\n",
      "Country\n",
      "Area\n",
      "Location\n",
      "Activity\n",
      "Name\n",
      "Sex \n",
      "Age\n",
      "Injury\n",
      "Fatal (Y/N)\n",
      "Time\n",
      "Species \n",
      "Investigator or Source\n",
      "pdf\n",
      "href formula\n",
      "href\n",
      "Case Number.1\n",
      "Case Number.2\n",
      "original order\n",
      "Unnamed: 22\n",
      "Unnamed: 23\n",
      "-------------------------------------\n",
      "типы данных столбцов: object, float64\n",
      "-------------------------------------\n",
      "использование памяти: 4938944 B\n",
      "-------------------------------------\n",
      "диапазон индекса: от 0 до 25722\n",
      "-------------------------------------\n",
      "количество ячеек в каждом столбце (ненулевые значения): \n",
      "Case Number               8702\n",
      "Date                      6302\n",
      "Year                      6300\n",
      "Type                      6298\n",
      "Country                   6252\n",
      "Area                      5847\n",
      "Location                  5762\n",
      "Activity                  5758\n",
      "Name                      6092\n",
      "Sex                       5737\n",
      "Age                       3471\n",
      "Injury                    6274\n",
      "Fatal (Y/N)               5763\n",
      "Time                      2948\n",
      "Species                   3464\n",
      "Investigator or Source    6285\n",
      "pdf                       6302\n",
      "href formula              6301\n",
      "href                      6302\n",
      "Case Number.1             6302\n",
      "Case Number.2             6302\n",
      "original order            6309\n",
      "Unnamed: 22                  1\n",
      "Unnamed: 23                  2\n",
      "dtype: int64\n"
     ]
    }
   ],
   "source": [
    "print(f'количество столбцов: {df.shape[0]}') \n",
    "print('-------------------------------------') \n",
    "print(f'названия столбцов:'+ '\\n' + str('\\n'.join(list(df.columns)))) \n",
    "print('-------------------------------------') \n",
    "print(f'типы данных столбцов: object, float64') \n",
    "print('-------------------------------------') \n",
    "print(f'использование памяти: {df.memory_usage().sum()} B') \n",
    "print('-------------------------------------') \n",
    "print(f'диапазон индекса: от 0 до {df.shape[0] - 1}') \n",
    "print('-------------------------------------') \n",
    "print(f'количество ячеек в каждом столбце (ненулевые значения): \\n{df.count()}')"
   ]
  },
  {
   "cell_type": "markdown",
   "id": "c81a81e0",
   "metadata": {},
   "source": [
    "# Проверка на строки дубликаты"
   ]
  },
  {
   "cell_type": "code",
   "execution_count": 203,
   "id": "9e60bccf",
   "metadata": {},
   "outputs": [
    {
     "data": {
      "text/plain": [
       "0        False\n",
       "1        False\n",
       "2        False\n",
       "3        False\n",
       "4        False\n",
       "         ...  \n",
       "25718     True\n",
       "25719     True\n",
       "25720     True\n",
       "25721     True\n",
       "25722    False\n",
       "Length: 25723, dtype: bool"
      ]
     },
     "execution_count": 203,
     "metadata": {},
     "output_type": "execute_result"
    }
   ],
   "source": [
    "df.duplicated() == True"
   ]
  },
  {
   "cell_type": "markdown",
   "id": "bf68746a",
   "metadata": {},
   "source": [
    "# Видно, что в датасете содержатся строки дубликаты - удалим их. Затем удалим неинформативные столбцы и строки, в которых все значения пустые"
   ]
  },
  {
   "cell_type": "code",
   "execution_count": 204,
   "id": "487f42f0",
   "metadata": {
    "scrolled": false
   },
   "outputs": [],
   "source": [
    "df = df.drop_duplicates()\n",
    "df.drop(['Case Number', 'pdf', 'href formula', 'href', 'Case Number.1', 'Case Number.2', 'original order','Unnamed: 22', 'Unnamed: 23'], axis=1, inplace=True)\n",
    "df.dropna(how='all', inplace=True)"
   ]
  },
  {
   "cell_type": "markdown",
   "id": "c08c768b",
   "metadata": {},
   "source": [
    "# Выводы"
   ]
  },
  {
   "cell_type": "code",
   "execution_count": 205,
   "id": "fa6a01df",
   "metadata": {
    "scrolled": false
   },
   "outputs": [
    {
     "name": "stdout",
     "output_type": "stream",
     "text": [
      "ТОП-10 стран по количеству нападений:\n",
      "\n",
      "USA                 2229\n",
      "AUSTRALIA           1338\n",
      "SOUTH AFRICA         579\n",
      "PAPUA NEW GUINEA     134\n",
      "NEW ZEALAND          128\n",
      "BRAZIL               112\n",
      "BAHAMAS              109\n",
      "MEXICO                89\n",
      "ITALY                 71\n",
      "FIJI                  62\n",
      "Name: Country, dtype: int64 \n",
      "\n",
      "ТОП-20 местностей по количеству нападений:\n",
      "\n",
      "Florida, USA                           1037\n",
      "New South Wales, AUSTRALIA              486\n",
      "Queensland, AUSTRALIA                   311\n",
      "Hawaii, USA                             298\n",
      "California, USA                         290\n",
      "KwaZulu-Natal, SOUTH AFRICA             213\n",
      "Western Cape Province, SOUTH AFRICA     195\n",
      "Western Australia, AUSTRALIA            189\n",
      "Eastern Cape Province, SOUTH AFRICA     160\n",
      "South Carolina, USA                     159\n",
      "South Australia, AUSTRALIA              104\n",
      "North Carolina, USA                     101\n",
      "Victoria, AUSTRALIA                      90\n",
      "Pernambuco, BRAZIL                       74\n",
      "Texas, USA                               73\n",
      "Torres Strait, AUSTRALIA                 70\n",
      "North Island, NEW ZEALAND                67\n",
      "New Jersey, USA                          52\n",
      "Tasmania, AUSTRALIA                      41\n",
      "South Island, NEW ZEALAND                40\n",
      "Name: Area, Country, dtype: int64\n"
     ]
    }
   ],
   "source": [
    "df['Area, Country'] = df['Area'] + ', '+ df['Country']\n",
    "print('ТОП-10 стран по количеству нападений:\\n')\n",
    "print(df['Country'].value_counts().head(10), '\\n')\n",
    "print('ТОП-20 местностей по количеству нападений:\\n')\n",
    "print(df['Area, Country'].value_counts().head(20))"
   ]
  },
  {
   "cell_type": "markdown",
   "id": "f5235149",
   "metadata": {},
   "source": [
    "## Вывод: США, Австралия и Южная Африка - наиболее опасные страны с т. з. нападения акул. "
   ]
  },
  {
   "cell_type": "code",
   "execution_count": 206,
   "id": "9ccf865c",
   "metadata": {},
   "outputs": [
    {
     "data": {
      "text/plain": [
       "N          4293\n",
       "Y          1388\n",
       "UNKNOWN      71\n",
       " N            7\n",
       "N             1\n",
       "2017          1\n",
       "M             1\n",
       "y             1\n",
       "Name: Fatal (Y/N), dtype: int64"
      ]
     },
     "execution_count": 206,
     "metadata": {},
     "output_type": "execute_result"
    }
   ],
   "source": [
    "df['Fatal (Y/N)'].value_counts()"
   ]
  },
  {
   "cell_type": "markdown",
   "id": "dc581011",
   "metadata": {},
   "source": [
    "## Вывод: соотношение несмертельных нападений акул к смертельным примерно 4:1 соответственно. "
   ]
  },
  {
   "cell_type": "code",
   "execution_count": 207,
   "id": "6920eca1",
   "metadata": {
    "scrolled": false
   },
   "outputs": [
    {
     "data": {
      "text/plain": [
       "17    154\n",
       "18    150\n",
       "19    142\n",
       "20    141\n",
       "15    139\n",
       "16    138\n",
       "21    119\n",
       "22    117\n",
       "25    108\n",
       "24    106\n",
       "14    101\n",
       "13     94\n",
       "26     83\n",
       "28     80\n",
       "23     80\n",
       "27     78\n",
       "29     78\n",
       "30     76\n",
       "12     73\n",
       "32     69\n",
       "Name: Age, dtype: int64"
      ]
     },
     "execution_count": 207,
     "metadata": {},
     "output_type": "execute_result"
    }
   ],
   "source": [
    "df['Age'].value_counts().head(20)"
   ]
  },
  {
   "cell_type": "code",
   "execution_count": 208,
   "id": "63b9762a",
   "metadata": {
    "scrolled": true
   },
   "outputs": [
    {
     "data": {
      "text/plain": [
       "Unprovoked      4595\n",
       "Provoked         574\n",
       "Invalid          547\n",
       "Sea Disaster     239\n",
       "Boating          203\n",
       "Boat             137\n",
       "Questionable       2\n",
       "Boatomg            1\n",
       "Name: Type, dtype: int64"
      ]
     },
     "execution_count": 208,
     "metadata": {},
     "output_type": "execute_result"
    }
   ],
   "source": [
    "df['Type'].value_counts().head(20)"
   ]
  },
  {
   "cell_type": "code",
   "execution_count": 209,
   "id": "fff44381",
   "metadata": {},
   "outputs": [
    {
     "data": {
      "text/plain": [
       "M      5094\n",
       "F       637\n",
       "N         2\n",
       "M         2\n",
       "lli       1\n",
       ".         1\n",
       "Name: Sex , dtype: int64"
      ]
     },
     "execution_count": 209,
     "metadata": {},
     "output_type": "execute_result"
    }
   ],
   "source": [
    "df['Sex '].value_counts()"
   ]
  },
  {
   "cell_type": "code",
   "execution_count": 210,
   "id": "2fd711bc",
   "metadata": {},
   "outputs": [
    {
     "data": {
      "text/plain": [
       "Surfing            971\n",
       "Swimming           869\n",
       "Fishing            431\n",
       "Spearfishing       333\n",
       "Bathing            162\n",
       "Wading             149\n",
       "Diving             127\n",
       "Standing            99\n",
       "Snorkeling          89\n",
       "Scuba diving        76\n",
       "Body boarding       61\n",
       "Body surfing        49\n",
       "Swimming            47\n",
       "Kayaking            33\n",
       "Treading water      32\n",
       "Fell overboard      32\n",
       "Pearl diving        32\n",
       "Boogie boarding     29\n",
       "Free diving         29\n",
       "Windsurfing         19\n",
       "Name: Activity, dtype: int64"
      ]
     },
     "execution_count": 210,
     "metadata": {},
     "output_type": "execute_result"
    }
   ],
   "source": [
    "df['Activity'].value_counts().head(20)"
   ]
  },
  {
   "cell_type": "markdown",
   "id": "3efc6733",
   "metadata": {},
   "source": [
    "## Вывод: как правило, нападения акул являются неспровоцированными и приходятся на мужчин возраста 16-30 (это среднестатитический портрет людей, занимающихся вышеперечисленными активностями)"
   ]
  },
  {
   "cell_type": "code",
   "execution_count": 211,
   "id": "dc1bf456",
   "metadata": {},
   "outputs": [
    {
     "data": {
      "text/plain": [
       "White shark                                           163\n",
       "Shark involvement prior to death was not confirmed    105\n",
       "Invalid                                               102\n",
       "Shark involvement not confirmed                        88\n",
       "Tiger shark                                            73\n",
       "Shark involvement prior to death unconfirmed           68\n",
       "Bull shark                                             52\n",
       "4' shark                                               40\n",
       "6' shark                                               40\n",
       "1.8 m [6'] shark                                       35\n",
       "Questionable incident                                  35\n",
       "Questionable                                           34\n",
       "1.5 m [5'] shark                                       32\n",
       "1.2 m [4'] shark                                       27\n",
       "5' shark                                               26\n",
       "3' shark                                               26\n",
       "2 m shark                                              25\n",
       "4' to 5' shark                                         24\n",
       "3 m [10'] shark                                        22\n",
       "Wobbegong shark                                        21\n",
       "Name: Species , dtype: int64"
      ]
     },
     "execution_count": 211,
     "metadata": {},
     "output_type": "execute_result"
    }
   ],
   "source": [
    "df['Species '].value_counts().head(20)"
   ]
  },
  {
   "cell_type": "markdown",
   "id": "fe413036",
   "metadata": {},
   "source": [
    "## Вывод: чаще всего нападают белые, тигровые и бычьи акулы."
   ]
  }
 ],
 "metadata": {
  "kernelspec": {
   "display_name": "Python 3",
   "language": "python",
   "name": "python3"
  },
  "language_info": {
   "codemirror_mode": {
    "name": "ipython",
    "version": 3
   },
   "file_extension": ".py",
   "mimetype": "text/x-python",
   "name": "python",
   "nbconvert_exporter": "python",
   "pygments_lexer": "ipython3",
   "version": "3.8.8"
  }
 },
 "nbformat": 4,
 "nbformat_minor": 5
}
