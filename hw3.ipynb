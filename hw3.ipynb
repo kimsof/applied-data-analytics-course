{
 "cells": [
  {
   "cell_type": "markdown",
   "id": "91680a65",
   "metadata": {},
   "source": [
    "# Используемый датасет - Airplane_Crashes_and_Fatalities_Since_1908.csv. В нем собрана информация о крушениях самолетов. "
   ]
  },
  {
   "cell_type": "code",
   "execution_count": 27,
   "id": "7a34dcda",
   "metadata": {
    "scrolled": true
   },
   "outputs": [
    {
     "name": "stdout",
     "output_type": "stream",
     "text": [
      "<class 'pandas.core.frame.DataFrame'>\n",
      "RangeIndex: 5268 entries, 0 to 5267\n",
      "Data columns (total 13 columns):\n",
      " #   Column        Non-Null Count  Dtype  \n",
      "---  ------        --------------  -----  \n",
      " 0   Date          5268 non-null   object \n",
      " 1   Time          3049 non-null   object \n",
      " 2   Location      5248 non-null   object \n",
      " 3   Operator      5250 non-null   object \n",
      " 4   Flight #      1069 non-null   object \n",
      " 5   Route         3562 non-null   object \n",
      " 6   Type          5241 non-null   object \n",
      " 7   Registration  4933 non-null   object \n",
      " 8   cn/In         4040 non-null   object \n",
      " 9   Aboard        5246 non-null   float64\n",
      " 10  Fatalities    5256 non-null   float64\n",
      " 11  Ground        5246 non-null   float64\n",
      " 12  Summary       4878 non-null   object \n",
      "dtypes: float64(3), object(10)\n",
      "memory usage: 535.2+ KB\n"
     ]
    }
   ],
   "source": [
    "import pandas as pd\n",
    "df = pd.read_csv('Airplane_Crashes_and_Fatalities_Since_1908.csv')\n",
    "df.info()"
   ]
  },
  {
   "cell_type": "markdown",
   "id": "14ea4ccc",
   "metadata": {},
   "source": [
    "# Удалим неинформативные столбцы, строки дубликаты, строки, в которых все значения пустые"
   ]
  },
  {
   "cell_type": "code",
   "execution_count": 10,
   "id": "b7bd8d98",
   "metadata": {},
   "outputs": [],
   "source": [
    "useless_col = ['Flight #', 'cn/In', 'Registration', 'Ground', 'Summary', 'Route']\n",
    "df.drop(useless_col, axis=1, inplace=True)\n",
    "df.drop_duplicates(inplace=True)\n",
    "df.dropna(how='all', inplace=True)"
   ]
  },
  {
   "cell_type": "markdown",
   "id": "6ccb6108",
   "metadata": {},
   "source": [
    "# Для удобства поработаем над названием стоблцов"
   ]
  },
  {
   "cell_type": "code",
   "execution_count": 28,
   "id": "420948e5",
   "metadata": {},
   "outputs": [],
   "source": [
    "df.rename(columns=str.lower, inplace=True)\n",
    "df.rename(columns={'type':'plane model'}, inplace=True)"
   ]
  },
  {
   "cell_type": "markdown",
   "id": "90e4c819",
   "metadata": {},
   "source": [
    "# Анализ"
   ]
  },
  {
   "cell_type": "markdown",
   "id": "c2372b91",
   "metadata": {},
   "source": [
    "## ТОП-5 локаций по количеству крушений"
   ]
  },
  {
   "cell_type": "code",
   "execution_count": 20,
   "id": "bee9ff41",
   "metadata": {
    "scrolled": true
   },
   "outputs": [
    {
     "data": {
      "text/plain": [
       "Moscow, Russia            15\n",
       "Sao Paulo, Brazil         15\n",
       "Rio de Janeiro, Brazil    14\n",
       "Manila, Philippines       13\n",
       "Bogota, Colombia          13\n",
       "Name: location, dtype: int64"
      ]
     },
     "execution_count": 20,
     "metadata": {},
     "output_type": "execute_result"
    }
   ],
   "source": [
    "df['location'].value_counts().head(5)"
   ]
  },
  {
   "cell_type": "markdown",
   "id": "1f9bec3a",
   "metadata": {},
   "source": [
    "## ТОП-5 операторов по количеству крушений"
   ]
  },
  {
   "cell_type": "code",
   "execution_count": 21,
   "id": "e522e60f",
   "metadata": {
    "scrolled": true
   },
   "outputs": [
    {
     "data": {
      "text/plain": [
       "Aeroflot                     179\n",
       "Military - U.S. Air Force    176\n",
       "Air France                    70\n",
       "Deutsche Lufthansa            65\n",
       "United Air Lines              44\n",
       "Name: operator, dtype: int64"
      ]
     },
     "execution_count": 21,
     "metadata": {},
     "output_type": "execute_result"
    }
   ],
   "source": [
    "df['operator'].value_counts().head(5)"
   ]
  },
  {
   "cell_type": "markdown",
   "id": "0e1bf4ca",
   "metadata": {},
   "source": [
    "## ТОП-5 моделей самолетов по количеству крушений"
   ]
  },
  {
   "cell_type": "code",
   "execution_count": 22,
   "id": "b0d28737",
   "metadata": {},
   "outputs": [
    {
     "data": {
      "text/plain": [
       "Douglas DC-3                                334\n",
       "de Havilland Canada DHC-6 Twin Otter 300     81\n",
       "Douglas C-47A                                74\n",
       "Douglas C-47                                 62\n",
       "Douglas DC-4                                 40\n",
       "Name: plane model, dtype: int64"
      ]
     },
     "execution_count": 22,
     "metadata": {},
     "output_type": "execute_result"
    }
   ],
   "source": [
    "df['plane model'].value_counts().head(5)"
   ]
  },
  {
   "cell_type": "markdown",
   "id": "06a9722e",
   "metadata": {},
   "source": [
    "## Рассмотрим зависимость числа крушений от даты"
   ]
  },
  {
   "cell_type": "code",
   "execution_count": 12,
   "id": "52a2c94d",
   "metadata": {},
   "outputs": [],
   "source": [
    "df[['month', 'day', 'year']] = df['date'].str.split('/', n=3, expand=True)\n",
    "df.sort_values(['year', 'month', 'day']).reset_index(drop=True, inplace=True)"
   ]
  },
  {
   "cell_type": "code",
   "execution_count": 18,
   "id": "29b00d6d",
   "metadata": {
    "scrolled": false
   },
   "outputs": [
    {
     "data": {
      "image/png": "[encoded data removed]",
      "text/plain": [
       "<Figure size 576x504 with 3 Axes>"
      ]
     },
     "metadata": {
      "needs_background": "light"
     },
     "output_type": "display_data"
    }
   ],
   "source": [
    "df[['month', 'day', 'year']] = df['date'].str.split('/', n=3, expand=True)\n",
    "df.sort_values(['year', 'month', 'day']).reset_index(drop=True, inplace=True)\n",
    "\n",
    "import numpy as np\n",
    "def x(column_name):\n",
    "    return np.array(df[column_name].value_counts().sort_index().index).astype(int)\n",
    "def y(column_name):\n",
    "    return np.array(df[column_name].value_counts().sort_index().values).astype(int)\n",
    "\n",
    "import matplotlib.pyplot as plt\n",
    "fig, axes = plt.subplots(3, 1, figsize=(8, 7))\n",
    "axes[0].plot(x('year'), y('year'), color='red')\n",
    "axes[0].set_title('Количество крушений от года')\n",
    "axes[1].plot(x('month'), y('month'), color='blue')\n",
    "axes[1].set_title('Количество крушений от месяца')\n",
    "axes[2].plot(x('day'), y('day'), color='red')\n",
    "axes[2].set_title('Количество крушений от дня')\n",
    "plt.tight_layout() \n",
    "plt.show()"
   ]
  },
  {
   "cell_type": "markdown",
   "id": "dab9bcc2",
   "metadata": {},
   "source": [
    "## Выводы: \n",
    "## Меньше все крушений было в 1920-1940 года, скорее всего потому, что тогда летало меньше самолетов. Затем количество крушений начинает увеличиваться. Ближе к 2000 идет на спад, скорее всего благодаря развитию индустрии.\n",
    "## Больше всего крушений приходится на зиму. Также их много летом, скорее всего в это время увеличивается количество рейсов. Меньше всего крушений в апреле-июне. \n",
    "## По дням месяца количество крушений распределено относительно равномерно"
   ]
  },
  {
   "cell_type": "markdown",
   "id": "59b5dd9c",
   "metadata": {},
   "source": [
    "## Посчитаем средний процент выживающих при крушении"
   ]
  },
  {
   "cell_type": "code",
   "execution_count": 34,
   "id": "130056c1",
   "metadata": {},
   "outputs": [
    {
     "name": "stdout",
     "output_type": "stream",
     "text": [
      "средний процент выживающих при крушении:  17.0\n"
     ]
    }
   ],
   "source": [
    "df['survival rate'] = df.apply(lambda row:\n",
    "    round(1 - row['fatalities'] / row['aboard'], 2) if row['fatalities'] != None and row['aboard'] != (None or 0) else None, axis=1)\n",
    "print('средний процент выживающих при крушении: ', round(df['survival rate'].mean(), 2)*100)"
   ]
  },
  {
   "cell_type": "code",
   "execution_count": 31,
   "id": "fe714d2d",
   "metadata": {},
   "outputs": [
    {
     "data": {
      "text/html": [
       "<div>\n",
       "<style scoped>\n",
       "    .dataframe tbody tr th:only-of-type {\n",
       "        vertical-align: middle;\n",
       "    }\n",
       "\n",
       "    .dataframe tbody tr th {\n",
       "        vertical-align: top;\n",
       "    }\n",
       "\n",
       "    .dataframe thead th {\n",
       "        text-align: right;\n",
       "    }\n",
       "</style>\n",
       "<table border=\"1\" class=\"dataframe\">\n",
       "  <thead>\n",
       "    <tr style=\"text-align: right;\">\n",
       "      <th></th>\n",
       "      <th>date</th>\n",
       "      <th>time</th>\n",
       "      <th>location</th>\n",
       "      <th>operator</th>\n",
       "      <th>flight #</th>\n",
       "      <th>route</th>\n",
       "      <th>plane model</th>\n",
       "      <th>registration</th>\n",
       "      <th>cn/in</th>\n",
       "      <th>aboard</th>\n",
       "      <th>fatalities</th>\n",
       "      <th>ground</th>\n",
       "      <th>summary</th>\n",
       "      <th>survival rate</th>\n",
       "    </tr>\n",
       "  </thead>\n",
       "  <tbody>\n",
       "    <tr>\n",
       "      <th>0</th>\n",
       "      <td>09/17/1908</td>\n",
       "      <td>17:18</td>\n",
       "      <td>Fort Myer, Virginia</td>\n",
       "      <td>Military - U.S. Army</td>\n",
       "      <td>NaN</td>\n",
       "      <td>Demonstration</td>\n",
       "      <td>Wright Flyer III</td>\n",
       "      <td>NaN</td>\n",
       "      <td>1</td>\n",
       "      <td>2.0</td>\n",
       "      <td>1.0</td>\n",
       "      <td>0.0</td>\n",
       "      <td>During a demonstration flight, a U.S. Army fly...</td>\n",
       "      <td>0.50</td>\n",
       "    </tr>\n",
       "    <tr>\n",
       "      <th>1</th>\n",
       "      <td>07/12/1912</td>\n",
       "      <td>06:30</td>\n",
       "      <td>AtlantiCity, New Jersey</td>\n",
       "      <td>Military - U.S. Navy</td>\n",
       "      <td>NaN</td>\n",
       "      <td>Test flight</td>\n",
       "      <td>Dirigible</td>\n",
       "      <td>NaN</td>\n",
       "      <td>NaN</td>\n",
       "      <td>5.0</td>\n",
       "      <td>5.0</td>\n",
       "      <td>0.0</td>\n",
       "      <td>First U.S. dirigible Akron exploded just offsh...</td>\n",
       "      <td>0.00</td>\n",
       "    </tr>\n",
       "    <tr>\n",
       "      <th>2</th>\n",
       "      <td>08/06/1913</td>\n",
       "      <td>NaN</td>\n",
       "      <td>Victoria, British Columbia, Canada</td>\n",
       "      <td>Private</td>\n",
       "      <td>-</td>\n",
       "      <td>NaN</td>\n",
       "      <td>Curtiss seaplane</td>\n",
       "      <td>NaN</td>\n",
       "      <td>NaN</td>\n",
       "      <td>1.0</td>\n",
       "      <td>1.0</td>\n",
       "      <td>0.0</td>\n",
       "      <td>The first fatal airplane accident in Canada oc...</td>\n",
       "      <td>0.00</td>\n",
       "    </tr>\n",
       "    <tr>\n",
       "      <th>3</th>\n",
       "      <td>09/09/1913</td>\n",
       "      <td>18:30</td>\n",
       "      <td>Over the North Sea</td>\n",
       "      <td>Military - German Navy</td>\n",
       "      <td>NaN</td>\n",
       "      <td>NaN</td>\n",
       "      <td>Zeppelin L-1 (airship)</td>\n",
       "      <td>NaN</td>\n",
       "      <td>NaN</td>\n",
       "      <td>20.0</td>\n",
       "      <td>14.0</td>\n",
       "      <td>0.0</td>\n",
       "      <td>The airship flew into a thunderstorm and encou...</td>\n",
       "      <td>0.30</td>\n",
       "    </tr>\n",
       "    <tr>\n",
       "      <th>4</th>\n",
       "      <td>10/17/1913</td>\n",
       "      <td>10:30</td>\n",
       "      <td>Near Johannisthal, Germany</td>\n",
       "      <td>Military - German Navy</td>\n",
       "      <td>NaN</td>\n",
       "      <td>NaN</td>\n",
       "      <td>Zeppelin L-2 (airship)</td>\n",
       "      <td>NaN</td>\n",
       "      <td>NaN</td>\n",
       "      <td>30.0</td>\n",
       "      <td>30.0</td>\n",
       "      <td>0.0</td>\n",
       "      <td>Hydrogen gas which was being vented was sucked...</td>\n",
       "      <td>0.00</td>\n",
       "    </tr>\n",
       "    <tr>\n",
       "      <th>...</th>\n",
       "      <td>...</td>\n",
       "      <td>...</td>\n",
       "      <td>...</td>\n",
       "      <td>...</td>\n",
       "      <td>...</td>\n",
       "      <td>...</td>\n",
       "      <td>...</td>\n",
       "      <td>...</td>\n",
       "      <td>...</td>\n",
       "      <td>...</td>\n",
       "      <td>...</td>\n",
       "      <td>...</td>\n",
       "      <td>...</td>\n",
       "      <td>...</td>\n",
       "    </tr>\n",
       "    <tr>\n",
       "      <th>5263</th>\n",
       "      <td>05/20/2009</td>\n",
       "      <td>06:30</td>\n",
       "      <td>Near Madiun, Indonesia</td>\n",
       "      <td>Military - Indonesian Air Force</td>\n",
       "      <td>NaN</td>\n",
       "      <td>Jakarta - Maduin</td>\n",
       "      <td>Lockheed C-130 Hercules</td>\n",
       "      <td>A-1325</td>\n",
       "      <td>1982</td>\n",
       "      <td>112.0</td>\n",
       "      <td>98.0</td>\n",
       "      <td>2.0</td>\n",
       "      <td>While on approach, the military transport cras...</td>\n",
       "      <td>0.12</td>\n",
       "    </tr>\n",
       "    <tr>\n",
       "      <th>5264</th>\n",
       "      <td>05/26/2009</td>\n",
       "      <td>NaN</td>\n",
       "      <td>Near Isiro, DemocratiRepubliCongo</td>\n",
       "      <td>Service Air</td>\n",
       "      <td>NaN</td>\n",
       "      <td>Goma - Isiro</td>\n",
       "      <td>Antonov An-26</td>\n",
       "      <td>9Q-CSA</td>\n",
       "      <td>5005</td>\n",
       "      <td>4.0</td>\n",
       "      <td>4.0</td>\n",
       "      <td>NaN</td>\n",
       "      <td>The cargo plane crashed while on approach to I...</td>\n",
       "      <td>0.00</td>\n",
       "    </tr>\n",
       "    <tr>\n",
       "      <th>5265</th>\n",
       "      <td>06/01/2009</td>\n",
       "      <td>00:15</td>\n",
       "      <td>AtlantiOcean, 570 miles northeast of Natal, Br...</td>\n",
       "      <td>Air France</td>\n",
       "      <td>447</td>\n",
       "      <td>Rio de Janeiro - Paris</td>\n",
       "      <td>Airbus A330-203</td>\n",
       "      <td>F-GZCP</td>\n",
       "      <td>660</td>\n",
       "      <td>228.0</td>\n",
       "      <td>228.0</td>\n",
       "      <td>0.0</td>\n",
       "      <td>The Airbus went missing over the AtlantiOcean ...</td>\n",
       "      <td>0.00</td>\n",
       "    </tr>\n",
       "    <tr>\n",
       "      <th>5266</th>\n",
       "      <td>06/07/2009</td>\n",
       "      <td>08:30</td>\n",
       "      <td>Near Port Hope Simpson, Newfoundland, Canada</td>\n",
       "      <td>Strait Air</td>\n",
       "      <td>NaN</td>\n",
       "      <td>Lourdes de BlanSablon - Port Hope Simpson</td>\n",
       "      <td>Britten-Norman BN-2A-27 Islander</td>\n",
       "      <td>C-FJJR</td>\n",
       "      <td>424</td>\n",
       "      <td>1.0</td>\n",
       "      <td>1.0</td>\n",
       "      <td>0.0</td>\n",
       "      <td>The air ambulance crashed into hills while att...</td>\n",
       "      <td>0.00</td>\n",
       "    </tr>\n",
       "    <tr>\n",
       "      <th>5267</th>\n",
       "      <td>06/08/2009</td>\n",
       "      <td>NaN</td>\n",
       "      <td>State of Arunachal Pradesh, India</td>\n",
       "      <td>Military - Indian Air Force</td>\n",
       "      <td>NaN</td>\n",
       "      <td>Mechuka for Jorhat</td>\n",
       "      <td>Antonov An-32</td>\n",
       "      <td>NaN</td>\n",
       "      <td>NaN</td>\n",
       "      <td>13.0</td>\n",
       "      <td>13.0</td>\n",
       "      <td>0.0</td>\n",
       "      <td>The military transport went missing while en r...</td>\n",
       "      <td>0.00</td>\n",
       "    </tr>\n",
       "  </tbody>\n",
       "</table>\n",
       "<p>5268 rows × 14 columns</p>\n",
       "</div>"
      ],
      "text/plain": [
       "            date   time                                           location  \\\n",
       "0     09/17/1908  17:18                                Fort Myer, Virginia   \n",
       "1     07/12/1912  06:30                            AtlantiCity, New Jersey   \n",
       "2     08/06/1913    NaN                 Victoria, British Columbia, Canada   \n",
       "3     09/09/1913  18:30                                 Over the North Sea   \n",
       "4     10/17/1913  10:30                         Near Johannisthal, Germany   \n",
       "...          ...    ...                                                ...   \n",
       "5263  05/20/2009  06:30                             Near Madiun, Indonesia   \n",
       "5264  05/26/2009    NaN                  Near Isiro, DemocratiRepubliCongo   \n",
       "5265  06/01/2009  00:15  AtlantiOcean, 570 miles northeast of Natal, Br...   \n",
       "5266  06/07/2009  08:30       Near Port Hope Simpson, Newfoundland, Canada   \n",
       "5267  06/08/2009    NaN                  State of Arunachal Pradesh, India   \n",
       "\n",
       "                             operator flight #  \\\n",
       "0                Military - U.S. Army      NaN   \n",
       "1                Military - U.S. Navy      NaN   \n",
       "2                             Private        -   \n",
       "3              Military - German Navy      NaN   \n",
       "4              Military - German Navy      NaN   \n",
       "...                               ...      ...   \n",
       "5263  Military - Indonesian Air Force      NaN   \n",
       "5264                      Service Air      NaN   \n",
       "5265                       Air France      447   \n",
       "5266                       Strait Air      NaN   \n",
       "5267      Military - Indian Air Force      NaN   \n",
       "\n",
       "                                          route  \\\n",
       "0                                 Demonstration   \n",
       "1                                   Test flight   \n",
       "2                                           NaN   \n",
       "3                                           NaN   \n",
       "4                                           NaN   \n",
       "...                                         ...   \n",
       "5263                           Jakarta - Maduin   \n",
       "5264                               Goma - Isiro   \n",
       "5265                     Rio de Janeiro - Paris   \n",
       "5266  Lourdes de BlanSablon - Port Hope Simpson   \n",
       "5267                         Mechuka for Jorhat   \n",
       "\n",
       "                           plane model registration cn/in  aboard  fatalities  \\\n",
       "0                     Wright Flyer III          NaN     1     2.0         1.0   \n",
       "1                            Dirigible          NaN   NaN     5.0         5.0   \n",
       "2                     Curtiss seaplane          NaN   NaN     1.0         1.0   \n",
       "3               Zeppelin L-1 (airship)          NaN   NaN    20.0        14.0   \n",
       "4               Zeppelin L-2 (airship)          NaN   NaN    30.0        30.0   \n",
       "...                                ...          ...   ...     ...         ...   \n",
       "5263           Lockheed C-130 Hercules       A-1325  1982   112.0        98.0   \n",
       "5264                     Antonov An-26       9Q-CSA  5005     4.0         4.0   \n",
       "5265                   Airbus A330-203       F-GZCP   660   228.0       228.0   \n",
       "5266  Britten-Norman BN-2A-27 Islander      C-FJJR    424     1.0         1.0   \n",
       "5267                     Antonov An-32          NaN   NaN    13.0        13.0   \n",
       "\n",
       "      ground                                            summary  survival rate  \n",
       "0        0.0  During a demonstration flight, a U.S. Army fly...           0.50  \n",
       "1        0.0  First U.S. dirigible Akron exploded just offsh...           0.00  \n",
       "2        0.0  The first fatal airplane accident in Canada oc...           0.00  \n",
       "3        0.0  The airship flew into a thunderstorm and encou...           0.30  \n",
       "4        0.0  Hydrogen gas which was being vented was sucked...           0.00  \n",
       "...      ...                                                ...            ...  \n",
       "5263     2.0  While on approach, the military transport cras...           0.12  \n",
       "5264     NaN  The cargo plane crashed while on approach to I...           0.00  \n",
       "5265     0.0  The Airbus went missing over the AtlantiOcean ...           0.00  \n",
       "5266     0.0  The air ambulance crashed into hills while att...           0.00  \n",
       "5267     0.0  The military transport went missing while en r...           0.00  \n",
       "\n",
       "[5268 rows x 14 columns]"
      ]
     },
     "execution_count": 31,
     "metadata": {},
     "output_type": "execute_result"
    }
   ],
   "source": [
    "df"
   ]
  }
 ],
 "metadata": {
  "kernelspec": {
   "display_name": "Python 3",
   "language": "python",
   "name": "python3"
  },
  "language_info": {
   "codemirror_mode": {
    "name": "ipython",
    "version": 3
   },
   "file_extension": ".py",
   "mimetype": "text/x-python",
   "name": "python",
   "nbconvert_exporter": "python",
   "pygments_lexer": "ipython3",
   "version": "3.8.8"
  }
 },
 "nbformat": 4,
 "nbformat_minor": 5
}
